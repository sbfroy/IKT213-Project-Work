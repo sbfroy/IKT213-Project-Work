{
 "cells": [
  {
   "cell_type": "code",
   "id": "initial_id",
   "metadata": {
    "collapsed": true,
    "ExecuteTime": {
     "end_time": "2024-09-28T09:44:01.876457Z",
     "start_time": "2024-09-28T09:44:01.863284Z"
    }
   },
   "source": [
    "from re import findall\n",
    "from os.path import join, basename\n",
    "from glob import glob"
   ],
   "outputs": [],
   "execution_count": 1
  },
  {
   "metadata": {
    "ExecuteTime": {
     "end_time": "2024-09-28T10:03:32.742827Z",
     "start_time": "2024-09-28T10:03:32.729731Z"
    }
   },
   "cell_type": "code",
   "source": [
    "def image_name(file_path: str):\n",
    "    file_name = basename(file_path)\n",
    "    numbers = findall('[0-9]+', file_name)\n",
    "    return int(numbers[-1]) if numbers else -1\n",
    "\n",
    "image_dir = \"pythonProject1/data/dataset_1/images/*.jpg\"\n",
    "annotation_dir = \"pythonProject1/data/dataset_1/annotations/*.json\"\n",
    "\n",
    "image_paths = glob(image_dir)\n",
    "annotation_paths = glob(annotation_dir)\n",
    "image_paths = sorted(image_paths, key=image_name)\n",
    "annotation_paths = sorted(annotation_paths, key=image_name)"
   ],
   "id": "ab0dd144d2875d56",
   "outputs": [],
   "execution_count": 98
  },
  {
   "metadata": {
    "ExecuteTime": {
     "end_time": "2024-09-28T10:03:33.227149Z",
     "start_time": "2024-09-28T10:03:33.214964Z"
    }
   },
   "cell_type": "code",
   "source": [
    "import pandas as pd\n",
    "import json"
   ],
   "id": "7d0d382e0d26b492",
   "outputs": [],
   "execution_count": 99
  },
  {
   "metadata": {
    "ExecuteTime": {
     "end_time": "2024-09-28T10:03:33.663123Z",
     "start_time": "2024-09-28T10:03:33.624922Z"
    }
   },
   "cell_type": "code",
   "source": [
    "def get_annotation_data(annotation_path: str):\n",
    "    with open(annotation_path, 'r', encoding='utf-8') as annotation_file:\n",
    "        annotation_data = json.load(annotation_file)\n",
    "    return pd.DataFrame(annotation_data['instances'])\n",
    "\n",
    "get_annotation_data(annotation_paths[0])"
   ],
   "id": "dc56963fd265b72f",
   "outputs": [
    {
     "data": {
      "text/plain": [
       "                                              corners  \\\n",
       "0   [{'x': 244.83972010293138, 'y': -0.13906923759...   \n",
       "1   [{'x': 301.11259600795165, 'y': 0.293799038594...   \n",
       "2   [{'x': 357.60190605106817, 'y': 3.756745248134...   \n",
       "3   [{'x': 410.84470402274115, 'y': 6.786823181481...   \n",
       "4   [{'x': 410.84470402274115, 'y': -0.35550337569...   \n",
       "5   [{'x': 358.0347743272606, 'y': -1.654108204271...   \n",
       "6   [{'x': 410.4118357465487, 'y': 100.93567490460...   \n",
       "7   [{'x': 357.3854719129719, 'y': 97.905596971256...   \n",
       "8   [{'x': 246.78762734579746, 'y': 96.82342628077...   \n",
       "9   [{'x': 302.411200836529, 'y': 97.6891628331600...   \n",
       "10  [{'x': 303.4933715270102, 'y': 189.89011061593...   \n",
       "11  [{'x': 247.43692976008617, 'y': 189.6736764778...   \n",
       "12  [{'x': 357.60190605106817, 'y': 190.3229788921...   \n",
       "13  [{'x': 410.19540160845247, 'y': 189.8901106159...   \n",
       "14  [{'x': 303.70980566510644, 'y': 375.1577196162...   \n",
       "15  [{'x': 248.3026663124711, 'y': 374.94128547812...   \n",
       "16  [{'x': 358.45281024553685, 'y': 373.3322776156...   \n",
       "17  [{'x': 411.1750251716334, 'y': 372.08490660007...   \n",
       "18  [{'x': 410.4118357465487, 'y': 280.14313299197...   \n",
       "19  [{'x': 358.0347743272606, 'y': 280.57600126816...   \n",
       "20  [{'x': 304.1426739412989, 'y': 281.00886954436...   \n",
       "21  [{'x': 247.43692976008617, 'y': 284.2553816158...   \n",
       "22  [{'x': 25.50280080436576, 'y': 386.38539119232...   \n",
       "23  [{'x': 27.575431149000096, 'y': 295.0677514791...   \n",
       "24  [{'x': 27.69735058103741, 'y': 203.75009688316...   \n",
       "25  [{'x': 24.52744534806725, 'y': 110.48172393325...   \n",
       "26  [{'x': 20.50410409083589, 'y': 15.506486376185...   \n",
       "27  [{'x': 19.04107090638813, 'y': 0.2665573715215...   \n",
       "28  [{'x': 640.3538959749385, 'y': 376.45559415507...   \n",
       "29  [{'x': 639.996399726502, 'y': 277.786629586577...   \n",
       "30  [{'x': 640.1751478507202, 'y': -0.166703572879...   \n",
       "31  [{'x': 640.3538959749385, 'y': 79.376211704264...   \n",
       "32  [{'x': 640.5326440991569, 'y': 178.04517627276...   \n",
       "\n",
       "                                               center  defected_module  \n",
       "0   {'x': 216.7573906849453, 'y': 47.692876107299796}            False  \n",
       "1   {'x': 273.78778607330236, 'y': 48.666829728732...            False  \n",
       "2    {'x': 329.6277937021302, 'y': 49.91132602278617}            False  \n",
       "3    {'x': 384.0609794333325, 'y': 52.34621007636878}            False  \n",
       "4   {'x': 384.3315221059528, 'y': 2.1334892124122846}            False  \n",
       "5   {'x': 335.1466111566724, 'y': -0.3111080296066...            False  \n",
       "6    {'x': 383.8986538297603, 'y': 144.7635903459826}            False  \n",
       "7   {'x': 330.2229875818948, 'y': 143.95196232812174}            False  \n",
       "8   {'x': 218.1642125825708, 'y': 142.49103189597218}            False  \n",
       "9   {'x': 275.0322823673557, 'y': 143.51909405192927}            False  \n",
       "10  {'x': 275.6274762471204, 'y': 236.20700956348696}            False  \n",
       "11  {'x': 218.7052979278114, 'y': 236.36933516705915}            False  \n",
       "12  {'x': 330.8181814616595, 'y': 235.44949008015016}            False  \n",
       "13   {'x': 384.0609794333325, 'y': 235.2330559420539}            False  \n",
       "14  {'x': 275.80247498526296, 'y': 423.44398382631...            False  \n",
       "15  {'x': 219.4802145012652, 'y': 425.74456046520453}            False  \n",
       "16   {'x': 331.2564610726168, 'y': 421.8837907382615}            False  \n",
       "17  {'x': 385.2588644273424, 'y': 419.27798526817577}            False  \n",
       "18   {'x': 384.5186113727449, 'y': 326.5340796189743}            False  \n",
       "19  {'x': 331.0850160448007, 'y': 327.51871701110724}            False  \n",
       "20  {'x': 275.89801891974065, 'y': 328.84081406362...            False  \n",
       "21    {'x': 219.300491807576, 'y': 329.9229847541096}            False  \n",
       "22  {'x': 11.908784132205266, 'y': 434.3302078409965}            False  \n",
       "23  {'x': 13.127978452578406, 'y': 341.24472892187...            False  \n",
       "24  {'x': 13.554696464709004, 'y': 249.8051623352652}            False  \n",
       "25  {'x': 12.914619446513107, 'y': 157.11591040821...            False  \n",
       "26  {'x': 10.689589811832128, 'y': 62.84170586467284}            False  \n",
       "27    {'x': 9.28751634340302, 'y': 7.673162867788337}            False  \n",
       "28  {'x': 620.0212968451069, 'y': 426.23694674987524}            False  \n",
       "29   {'x': 618.8147470066334, 'y': 327.1211118708279}            False  \n",
       "30    {'x': 620.8256634040893, 'y': 39.3813189104195}            False  \n",
       "31   {'x': 619.5744265345611, 'y': 128.9341291437878}            False  \n",
       "32  {'x': 618.6806859134697, 'y': 228.45214730232635}            False  "
      ],
      "text/html": [
       "<div>\n",
       "<style scoped>\n",
       "    .dataframe tbody tr th:only-of-type {\n",
       "        vertical-align: middle;\n",
       "    }\n",
       "\n",
       "    .dataframe tbody tr th {\n",
       "        vertical-align: top;\n",
       "    }\n",
       "\n",
       "    .dataframe thead th {\n",
       "        text-align: right;\n",
       "    }\n",
       "</style>\n",
       "<table border=\"1\" class=\"dataframe\">\n",
       "  <thead>\n",
       "    <tr style=\"text-align: right;\">\n",
       "      <th></th>\n",
       "      <th>corners</th>\n",
       "      <th>center</th>\n",
       "      <th>defected_module</th>\n",
       "    </tr>\n",
       "  </thead>\n",
       "  <tbody>\n",
       "    <tr>\n",
       "      <th>0</th>\n",
       "      <td>[{'x': 244.83972010293138, 'y': -0.13906923759...</td>\n",
       "      <td>{'x': 216.7573906849453, 'y': 47.692876107299796}</td>\n",
       "      <td>False</td>\n",
       "    </tr>\n",
       "    <tr>\n",
       "      <th>1</th>\n",
       "      <td>[{'x': 301.11259600795165, 'y': 0.293799038594...</td>\n",
       "      <td>{'x': 273.78778607330236, 'y': 48.666829728732...</td>\n",
       "      <td>False</td>\n",
       "    </tr>\n",
       "    <tr>\n",
       "      <th>2</th>\n",
       "      <td>[{'x': 357.60190605106817, 'y': 3.756745248134...</td>\n",
       "      <td>{'x': 329.6277937021302, 'y': 49.91132602278617}</td>\n",
       "      <td>False</td>\n",
       "    </tr>\n",
       "    <tr>\n",
       "      <th>3</th>\n",
       "      <td>[{'x': 410.84470402274115, 'y': 6.786823181481...</td>\n",
       "      <td>{'x': 384.0609794333325, 'y': 52.34621007636878}</td>\n",
       "      <td>False</td>\n",
       "    </tr>\n",
       "    <tr>\n",
       "      <th>4</th>\n",
       "      <td>[{'x': 410.84470402274115, 'y': -0.35550337569...</td>\n",
       "      <td>{'x': 384.3315221059528, 'y': 2.1334892124122846}</td>\n",
       "      <td>False</td>\n",
       "    </tr>\n",
       "    <tr>\n",
       "      <th>5</th>\n",
       "      <td>[{'x': 358.0347743272606, 'y': -1.654108204271...</td>\n",
       "      <td>{'x': 335.1466111566724, 'y': -0.3111080296066...</td>\n",
       "      <td>False</td>\n",
       "    </tr>\n",
       "    <tr>\n",
       "      <th>6</th>\n",
       "      <td>[{'x': 410.4118357465487, 'y': 100.93567490460...</td>\n",
       "      <td>{'x': 383.8986538297603, 'y': 144.7635903459826}</td>\n",
       "      <td>False</td>\n",
       "    </tr>\n",
       "    <tr>\n",
       "      <th>7</th>\n",
       "      <td>[{'x': 357.3854719129719, 'y': 97.905596971256...</td>\n",
       "      <td>{'x': 330.2229875818948, 'y': 143.95196232812174}</td>\n",
       "      <td>False</td>\n",
       "    </tr>\n",
       "    <tr>\n",
       "      <th>8</th>\n",
       "      <td>[{'x': 246.78762734579746, 'y': 96.82342628077...</td>\n",
       "      <td>{'x': 218.1642125825708, 'y': 142.49103189597218}</td>\n",
       "      <td>False</td>\n",
       "    </tr>\n",
       "    <tr>\n",
       "      <th>9</th>\n",
       "      <td>[{'x': 302.411200836529, 'y': 97.6891628331600...</td>\n",
       "      <td>{'x': 275.0322823673557, 'y': 143.51909405192927}</td>\n",
       "      <td>False</td>\n",
       "    </tr>\n",
       "    <tr>\n",
       "      <th>10</th>\n",
       "      <td>[{'x': 303.4933715270102, 'y': 189.89011061593...</td>\n",
       "      <td>{'x': 275.6274762471204, 'y': 236.20700956348696}</td>\n",
       "      <td>False</td>\n",
       "    </tr>\n",
       "    <tr>\n",
       "      <th>11</th>\n",
       "      <td>[{'x': 247.43692976008617, 'y': 189.6736764778...</td>\n",
       "      <td>{'x': 218.7052979278114, 'y': 236.36933516705915}</td>\n",
       "      <td>False</td>\n",
       "    </tr>\n",
       "    <tr>\n",
       "      <th>12</th>\n",
       "      <td>[{'x': 357.60190605106817, 'y': 190.3229788921...</td>\n",
       "      <td>{'x': 330.8181814616595, 'y': 235.44949008015016}</td>\n",
       "      <td>False</td>\n",
       "    </tr>\n",
       "    <tr>\n",
       "      <th>13</th>\n",
       "      <td>[{'x': 410.19540160845247, 'y': 189.8901106159...</td>\n",
       "      <td>{'x': 384.0609794333325, 'y': 235.2330559420539}</td>\n",
       "      <td>False</td>\n",
       "    </tr>\n",
       "    <tr>\n",
       "      <th>14</th>\n",
       "      <td>[{'x': 303.70980566510644, 'y': 375.1577196162...</td>\n",
       "      <td>{'x': 275.80247498526296, 'y': 423.44398382631...</td>\n",
       "      <td>False</td>\n",
       "    </tr>\n",
       "    <tr>\n",
       "      <th>15</th>\n",
       "      <td>[{'x': 248.3026663124711, 'y': 374.94128547812...</td>\n",
       "      <td>{'x': 219.4802145012652, 'y': 425.74456046520453}</td>\n",
       "      <td>False</td>\n",
       "    </tr>\n",
       "    <tr>\n",
       "      <th>16</th>\n",
       "      <td>[{'x': 358.45281024553685, 'y': 373.3322776156...</td>\n",
       "      <td>{'x': 331.2564610726168, 'y': 421.8837907382615}</td>\n",
       "      <td>False</td>\n",
       "    </tr>\n",
       "    <tr>\n",
       "      <th>17</th>\n",
       "      <td>[{'x': 411.1750251716334, 'y': 372.08490660007...</td>\n",
       "      <td>{'x': 385.2588644273424, 'y': 419.27798526817577}</td>\n",
       "      <td>False</td>\n",
       "    </tr>\n",
       "    <tr>\n",
       "      <th>18</th>\n",
       "      <td>[{'x': 410.4118357465487, 'y': 280.14313299197...</td>\n",
       "      <td>{'x': 384.5186113727449, 'y': 326.5340796189743}</td>\n",
       "      <td>False</td>\n",
       "    </tr>\n",
       "    <tr>\n",
       "      <th>19</th>\n",
       "      <td>[{'x': 358.0347743272606, 'y': 280.57600126816...</td>\n",
       "      <td>{'x': 331.0850160448007, 'y': 327.51871701110724}</td>\n",
       "      <td>False</td>\n",
       "    </tr>\n",
       "    <tr>\n",
       "      <th>20</th>\n",
       "      <td>[{'x': 304.1426739412989, 'y': 281.00886954436...</td>\n",
       "      <td>{'x': 275.89801891974065, 'y': 328.84081406362...</td>\n",
       "      <td>False</td>\n",
       "    </tr>\n",
       "    <tr>\n",
       "      <th>21</th>\n",
       "      <td>[{'x': 247.43692976008617, 'y': 284.2553816158...</td>\n",
       "      <td>{'x': 219.300491807576, 'y': 329.9229847541096}</td>\n",
       "      <td>False</td>\n",
       "    </tr>\n",
       "    <tr>\n",
       "      <th>22</th>\n",
       "      <td>[{'x': 25.50280080436576, 'y': 386.38539119232...</td>\n",
       "      <td>{'x': 11.908784132205266, 'y': 434.3302078409965}</td>\n",
       "      <td>False</td>\n",
       "    </tr>\n",
       "    <tr>\n",
       "      <th>23</th>\n",
       "      <td>[{'x': 27.575431149000096, 'y': 295.0677514791...</td>\n",
       "      <td>{'x': 13.127978452578406, 'y': 341.24472892187...</td>\n",
       "      <td>False</td>\n",
       "    </tr>\n",
       "    <tr>\n",
       "      <th>24</th>\n",
       "      <td>[{'x': 27.69735058103741, 'y': 203.75009688316...</td>\n",
       "      <td>{'x': 13.554696464709004, 'y': 249.8051623352652}</td>\n",
       "      <td>False</td>\n",
       "    </tr>\n",
       "    <tr>\n",
       "      <th>25</th>\n",
       "      <td>[{'x': 24.52744534806725, 'y': 110.48172393325...</td>\n",
       "      <td>{'x': 12.914619446513107, 'y': 157.11591040821...</td>\n",
       "      <td>False</td>\n",
       "    </tr>\n",
       "    <tr>\n",
       "      <th>26</th>\n",
       "      <td>[{'x': 20.50410409083589, 'y': 15.506486376185...</td>\n",
       "      <td>{'x': 10.689589811832128, 'y': 62.84170586467284}</td>\n",
       "      <td>False</td>\n",
       "    </tr>\n",
       "    <tr>\n",
       "      <th>27</th>\n",
       "      <td>[{'x': 19.04107090638813, 'y': 0.2665573715215...</td>\n",
       "      <td>{'x': 9.28751634340302, 'y': 7.673162867788337}</td>\n",
       "      <td>False</td>\n",
       "    </tr>\n",
       "    <tr>\n",
       "      <th>28</th>\n",
       "      <td>[{'x': 640.3538959749385, 'y': 376.45559415507...</td>\n",
       "      <td>{'x': 620.0212968451069, 'y': 426.23694674987524}</td>\n",
       "      <td>False</td>\n",
       "    </tr>\n",
       "    <tr>\n",
       "      <th>29</th>\n",
       "      <td>[{'x': 639.996399726502, 'y': 277.786629586577...</td>\n",
       "      <td>{'x': 618.8147470066334, 'y': 327.1211118708279}</td>\n",
       "      <td>False</td>\n",
       "    </tr>\n",
       "    <tr>\n",
       "      <th>30</th>\n",
       "      <td>[{'x': 640.1751478507202, 'y': -0.166703572879...</td>\n",
       "      <td>{'x': 620.8256634040893, 'y': 39.3813189104195}</td>\n",
       "      <td>False</td>\n",
       "    </tr>\n",
       "    <tr>\n",
       "      <th>31</th>\n",
       "      <td>[{'x': 640.3538959749385, 'y': 79.376211704264...</td>\n",
       "      <td>{'x': 619.5744265345611, 'y': 128.9341291437878}</td>\n",
       "      <td>False</td>\n",
       "    </tr>\n",
       "    <tr>\n",
       "      <th>32</th>\n",
       "      <td>[{'x': 640.5326440991569, 'y': 178.04517627276...</td>\n",
       "      <td>{'x': 618.6806859134697, 'y': 228.45214730232635}</td>\n",
       "      <td>False</td>\n",
       "    </tr>\n",
       "  </tbody>\n",
       "</table>\n",
       "</div>"
      ]
     },
     "execution_count": 100,
     "metadata": {},
     "output_type": "execute_result"
    }
   ],
   "execution_count": 100
  },
  {
   "metadata": {
    "ExecuteTime": {
     "end_time": "2024-09-28T10:03:38.153189Z",
     "start_time": "2024-09-28T10:03:38.146917Z"
    }
   },
   "cell_type": "code",
   "source": [
    "import cv2\n",
    "import numpy as np"
   ],
   "id": "6d26b37ddda46a15",
   "outputs": [],
   "execution_count": 101
  },
  {
   "metadata": {
    "ExecuteTime": {
     "end_time": "2024-09-28T10:03:38.543961Z",
     "start_time": "2024-09-28T10:03:38.528822Z"
    }
   },
   "cell_type": "code",
   "source": [
    "def get_mask_from_annotation_data(annotation_data, shape=(512, 640)):\n",
    "    mask = np.zeros(shape, dtype='int16')\n",
    "    \n",
    "    for index, corner_points in enumerate(annotation_data['corners'], start=1):\n",
    "        polygon = np.array([[coords['x'], coords['y']] for coords in corner_points], dtype=np.int32)\n",
    "        cv2.fillPoly(mask, [polygon], color=index)\n",
    "    \n",
    "    return mask"
   ],
   "id": "da26fcba2d63b0e7",
   "outputs": [],
   "execution_count": 102
  },
  {
   "metadata": {
    "ExecuteTime": {
     "end_time": "2024-09-28T10:03:39.058559Z",
     "start_time": "2024-09-28T10:03:39.044970Z"
    }
   },
   "cell_type": "code",
   "source": [
    "def apply_color_map_on_labels(mask, image):\n",
    "    \"\"\"\n",
    "    Apply a color map on the mask and blend it with the image.\n",
    "    \"\"\"\n",
    "    color_mask = cv2.applyColorMap((mask * (255 // mask.max())).astype(np.uint8), cv2.COLORMAP_JET)\n",
    "    image_rgb = cv2.cvtColor(image, cv2.COLOR_GRAY2RGB)\n",
    "    \n",
    "    masked_image = cv2.addWeighted(image_rgb, 0.7, color_mask, 0.3, 0)\n",
    "    \n",
    "    return masked_image"
   ],
   "id": "f48ff784dc256215",
   "outputs": [],
   "execution_count": 103
  },
  {
   "metadata": {
    "ExecuteTime": {
     "end_time": "2024-09-28T10:03:39.555897Z",
     "start_time": "2024-09-28T10:03:39.544655Z"
    }
   },
   "cell_type": "code",
   "source": "annotation_path, image_path = next(zip(annotation_dir, image_dir))",
   "id": "e5b9c73a678a1f51",
   "outputs": [],
   "execution_count": 104
  },
  {
   "metadata": {
    "ExecuteTime": {
     "end_time": "2024-09-28T10:03:40.026907Z",
     "start_time": "2024-09-28T10:03:40.017908Z"
    }
   },
   "cell_type": "code",
   "source": "thermogram = cv2.imread(image_path, cv2.IMREAD_GRAYSCALE)",
   "id": "a111face8a09bca8",
   "outputs": [],
   "execution_count": 105
  },
  {
   "metadata": {
    "ExecuteTime": {
     "end_time": "2024-09-28T10:03:40.694947Z",
     "start_time": "2024-09-28T10:03:40.675674Z"
    }
   },
   "cell_type": "code",
   "source": [
    "if thermogram is None:\n",
    "    raise FileNotFoundError(f\"Failed to load image from {image_path}.\")"
   ],
   "id": "942161143f818ec5",
   "outputs": [
    {
     "ename": "FileNotFoundError",
     "evalue": "Failed to load image from C.",
     "output_type": "error",
     "traceback": [
      "\u001B[1;31m---------------------------------------------------------------------------\u001B[0m",
      "\u001B[1;31mFileNotFoundError\u001B[0m                         Traceback (most recent call last)",
      "Cell \u001B[1;32mIn[106], line 2\u001B[0m\n\u001B[0;32m      1\u001B[0m \u001B[38;5;28;01mif\u001B[39;00m thermogram \u001B[38;5;129;01mis\u001B[39;00m \u001B[38;5;28;01mNone\u001B[39;00m:\n\u001B[1;32m----> 2\u001B[0m     \u001B[38;5;28;01mraise\u001B[39;00m \u001B[38;5;167;01mFileNotFoundError\u001B[39;00m(\u001B[38;5;124mf\u001B[39m\u001B[38;5;124m\"\u001B[39m\u001B[38;5;124mFailed to load image from \u001B[39m\u001B[38;5;132;01m{\u001B[39;00mimage_path\u001B[38;5;132;01m}\u001B[39;00m\u001B[38;5;124m.\u001B[39m\u001B[38;5;124m\"\u001B[39m)\n",
      "\u001B[1;31mFileNotFoundError\u001B[0m: Failed to load image from C."
     ]
    }
   ],
   "execution_count": 106
  },
  {
   "metadata": {
    "ExecuteTime": {
     "end_time": "2024-09-28T09:53:14.074518Z",
     "start_time": "2024-09-28T09:53:14.066926Z"
    }
   },
   "cell_type": "code",
   "source": [
    "annotation_data = get_annotation_data(annotation_path)\n",
    "mask = get_mask_from_annotation_data(annotation_data)"
   ],
   "id": "7b5d499d5cd88918",
   "outputs": [],
   "execution_count": 22
  },
  {
   "metadata": {
    "ExecuteTime": {
     "end_time": "2024-09-28T09:53:27.271727Z",
     "start_time": "2024-09-28T09:53:27.245530Z"
    }
   },
   "cell_type": "code",
   "source": [
    "thermogram_normalized = cv2.normalize(thermogram, None, 0, 255, cv2.NORM_MINMAX).astype(np.uint8)\n",
    "masked_image = apply_color_map_on_labels(mask, thermogram_normalized)"
   ],
   "id": "4ceafaebe0e7382d",
   "outputs": [
    {
     "ename": "AttributeError",
     "evalue": "'NoneType' object has no attribute 'astype'",
     "output_type": "error",
     "traceback": [
      "\u001B[1;31m---------------------------------------------------------------------------\u001B[0m",
      "\u001B[1;31mAttributeError\u001B[0m                            Traceback (most recent call last)",
      "Cell \u001B[1;32mIn[23], line 1\u001B[0m\n\u001B[1;32m----> 1\u001B[0m thermogram_normalized \u001B[38;5;241m=\u001B[39m \u001B[43mcv2\u001B[49m\u001B[38;5;241;43m.\u001B[39;49m\u001B[43mnormalize\u001B[49m\u001B[43m(\u001B[49m\u001B[43mthermogram\u001B[49m\u001B[43m,\u001B[49m\u001B[43m \u001B[49m\u001B[38;5;28;43;01mNone\u001B[39;49;00m\u001B[43m,\u001B[49m\u001B[43m \u001B[49m\u001B[38;5;241;43m0\u001B[39;49m\u001B[43m,\u001B[49m\u001B[43m \u001B[49m\u001B[38;5;241;43m255\u001B[39;49m\u001B[43m,\u001B[49m\u001B[43m \u001B[49m\u001B[43mcv2\u001B[49m\u001B[38;5;241;43m.\u001B[39;49m\u001B[43mNORM_MINMAX\u001B[49m\u001B[43m)\u001B[49m\u001B[38;5;241;43m.\u001B[39;49m\u001B[43mastype\u001B[49m(np\u001B[38;5;241m.\u001B[39muint8)\n\u001B[0;32m      2\u001B[0m masked_image \u001B[38;5;241m=\u001B[39m apply_color_map_on_labels(mask, thermogram_normalized)\n",
      "\u001B[1;31mAttributeError\u001B[0m: 'NoneType' object has no attribute 'astype'"
     ]
    }
   ],
   "execution_count": 23
  },
  {
   "metadata": {},
   "cell_type": "code",
   "outputs": [],
   "execution_count": null,
   "source": "",
   "id": "f4d60cd8106c2c1"
  }
 ],
 "metadata": {
  "kernelspec": {
   "display_name": "Python 3",
   "language": "python",
   "name": "python3"
  },
  "language_info": {
   "codemirror_mode": {
    "name": "ipython",
    "version": 2
   },
   "file_extension": ".py",
   "mimetype": "text/x-python",
   "name": "python",
   "nbconvert_exporter": "python",
   "pygments_lexer": "ipython2",
   "version": "2.7.6"
  }
 },
 "nbformat": 4,
 "nbformat_minor": 5
}
